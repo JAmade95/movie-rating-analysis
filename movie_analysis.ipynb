{
 "cells": [
  {
   "cell_type": "code",
   "execution_count": 1,
   "id": "2a3b071c",
   "metadata": {},
   "outputs": [],
   "source": [
    "import pandas as pd\n",
    "import numpy as np\n",
    "import matplotlib.pyplot as plt"
   ]
  },
  {
   "cell_type": "code",
   "execution_count": 2,
   "id": "bfdf6f72",
   "metadata": {},
   "outputs": [],
   "source": [
    "# Data Load \n",
    "movies_df = pd.read_csv('/Users/joshuaamade/Desktop/PythonPortfolioProjects/movie-rating-analysis/Data/movie_dataset_public_final/raw/metadata.csv') "
   ]
  },
  {
   "cell_type": "code",
   "execution_count": 3,
   "id": "8d9eec3a",
   "metadata": {},
   "outputs": [
    {
     "name": "stdout",
     "output_type": "stream",
     "text": [
      "                                title       directedBy  \\\n",
      "0                    Toy Story (1995)    John Lasseter   \n",
      "1                      Jumanji (1995)     Joe Johnston   \n",
      "2             Grumpier Old Men (1995)    Howard Deutch   \n",
      "3            Waiting to Exhale (1995)  Forest Whitaker   \n",
      "4  Father of the Bride Part II (1995)    Charles Shyer   \n",
      "\n",
      "                                            starring dateAdded  avgRating  \\\n",
      "0  Tim Allen, Tom Hanks, Don Rickles, Jim Varney,...       NaN    3.89146   \n",
      "1  Jonathan Hyde, Bradley Pierce, Robin Williams,...       NaN    3.26605   \n",
      "2  Jack Lemmon, Walter Matthau, Ann-Margret , Sop...       NaN    3.17146   \n",
      "3  Angela Bassett, Loretta Devine, Whitney Housto...       NaN    2.86824   \n",
      "4  Steve Martin, Martin Short, Diane Keaton, Kimb...       NaN    3.07620   \n",
      "\n",
      "   imdbId  item_id  \n",
      "0  114709        1  \n",
      "1  113497        2  \n",
      "2  113228        3  \n",
      "3  114885        4  \n",
      "4  113041        5  \n",
      "<class 'pandas.core.frame.DataFrame'>\n",
      "RangeIndex: 84661 entries, 0 to 84660\n",
      "Data columns (total 7 columns):\n",
      " #   Column      Non-Null Count  Dtype  \n",
      "---  ------      --------------  -----  \n",
      " 0   title       84661 non-null  object \n",
      " 1   directedBy  81514 non-null  object \n",
      " 2   starring    77778 non-null  object \n",
      " 3   dateAdded   78143 non-null  object \n",
      " 4   avgRating   84661 non-null  float64\n",
      " 5   imdbId      84661 non-null  int64  \n",
      " 6   item_id     84661 non-null  int64  \n",
      "dtypes: float64(1), int64(2), object(4)\n",
      "memory usage: 4.5+ MB\n",
      "None\n"
     ]
    }
   ],
   "source": [
    "# Simple Exploration \n",
    "print(movies_df.head())   \n",
    "print(movies_df.info())"
   ]
  },
  {
   "cell_type": "code",
   "execution_count": 4,
   "id": "9099d6ff",
   "metadata": {},
   "outputs": [
    {
     "name": "stdout",
     "output_type": "stream",
     "text": [
      "                                             title  avgRating\n",
      "54217                SMART: The Documentary (2016)        5.0\n",
      "69307  Punk the Capital: Building a Sound Movement        5.0\n",
      "48018                          Four Mothers (1941)        5.0\n",
      "63735                    Once Upon a Ladder (2016)        5.0\n",
      "63746          Tenacious D: Post-Apocalypto (2018)        5.0\n",
      "48013                              Downfall (1997)        5.0\n",
      "66240       Stripped to Kill II: Live Girls (1989)        5.0\n",
      "35482                                  Mona (2012)        5.0\n",
      "55579          The Great American Broadcast (1941)        5.0\n",
      "45629                              Paradigm (1969)        5.0\n"
     ]
    },
    {
     "data": {
      "image/png": "[encoded data removed]",
      "text/plain": [
       "<Figure size 640x480 with 1 Axes>"
      ]
     },
     "metadata": {},
     "output_type": "display_data"
    }
   ],
   "source": [
    "# Highest Rated Movies\n",
    "top_rated = movies_df.sort_values('avgRating', ascending=False).head(10) \n",
    "print(top_rated[['title', 'avgRating']])\n",
    "\n",
    "# Rating Distribution\n",
    "movies_df['avgRating'].hist(bins=20)  \n",
    "plt.xlabel('Average Rating') \n",
    "plt.ylabel('Number of Movies')\n",
    "plt.title('Distribution of Movie Ratings')\n",
    "plt.show() "
   ]
  },
  {
   "cell_type": "code",
   "execution_count": 5,
   "id": "ecca9eff",
   "metadata": {},
   "outputs": [
    {
     "name": "stdout",
     "output_type": "stream",
     "text": [
      "Chuck Jones        80\n",
      "Michael Curtiz     77\n",
      "Georges Méliès     73\n",
      "Umberto Lenzi      63\n",
      "Werner Herzog      62\n",
      "John Ford          61\n",
      "David DeCoteau     60\n",
      "D.W. Griffith      60\n",
      "Jean-Luc Godard    59\n",
      "Richard Thorpe     59\n",
      "Name: directedBy, dtype: int64\n",
      "                                                   title  avgRating\n",
      "476                                 Jurassic Park (1993)    3.67980\n",
      "523                              Schindler's List (1993)    4.24646\n",
      "1075                   E.T. the Extra-Terrestrial (1982)    3.74194\n",
      "1173   Raiders of the Lost Ark (Indiana Jones and the...    4.10668\n",
      "1263           Indiana Jones and the Last Crusade (1989)    3.98142\n",
      "1356                                         Jaws (1975)    3.78214\n",
      "1494               Lost World: Jurassic Park, The (1997)    3.00912\n",
      "1635                                      Amistad (1997)    3.58746\n",
      "1945                          Saving Private Ryan (1998)    4.05498\n",
      "2032         Indiana Jones and the Temple of Doom (1984)    3.69773\n",
      "2654                            Color Purple, The (1985)    3.73000\n",
      "3383           Close Encounters of the Third Kind (1977)    3.77295\n",
      "3400                                         Hook (1991)    3.23382\n",
      "3648                       Sugarland Express, The (1974)    3.42128\n",
      "4010                            Empire of the Sun (1987)    3.81983\n",
      "4276                 A.I. Artificial Intelligence (2001)    3.27976\n",
      "4470                                       Always (1989)    3.25489\n",
      "5349                              Minority Report (2002)    3.69110\n",
      "5891                          Catch Me If You Can (2002)    3.94781\n",
      "6993                                         1941 (1979)    2.83333\n",
      "7874                                Terminal, The (2004)    3.60763\n",
      "8715                                         Duel (1971)    3.69301\n",
      "10243                           War of the Worlds (2005)    3.14427\n",
      "10710                                      Munich (2005)    3.71774\n",
      "12708  Indiana Jones and the Kingdom of the Crystal S...    2.88308\n",
      "18291                   Adventures of Tintin, The (2011)    3.46164\n",
      "18382                                   War Horse (2011)    3.33977\n",
      "20087                                     Lincoln (2012)    3.63411\n",
      "36101                                   Ready Player One    3.56056\n",
      "37245                             Bridge of Spies (2015)    3.79591\n",
      "44597                                     The BFG (2016)    3.10526\n",
      "46706                              Something Evil (1972)    2.25000\n",
      "55317                                    The Post (2017)    3.66058\n"
     ]
    }
   ],
   "source": [
    "director_counts = movies_df['directedBy'].value_counts().head(10)\n",
    "print(director_counts)\n",
    "\n",
    "# Example: Exploring Movies by a Specific Director \n",
    "directors_movies = movies_df[movies_df['directedBy'] == 'Steven Spielberg'] \n",
    "print(directors_movies[['title', 'avgRating']]) "
   ]
  },
  {
   "cell_type": "code",
   "execution_count": null,
   "id": "4e7c4fb8",
   "metadata": {},
   "outputs": [],
   "source": []
  }
 ],
 "metadata": {
  "kernelspec": {
   "display_name": "Python 3 (ipykernel)",
   "language": "python",
   "name": "python3"
  },
  "language_info": {
   "codemirror_mode": {
    "name": "ipython",
    "version": 3
   },
   "file_extension": ".py",
   "mimetype": "text/x-python",
   "name": "python",
   "nbconvert_exporter": "python",
   "pygments_lexer": "ipython3",
   "version": "3.10.9"
  }
 },
 "nbformat": 4,
 "nbformat_minor": 5
}
